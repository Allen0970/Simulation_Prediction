{
 "cells": [
  {
   "cell_type": "code",
   "execution_count": null,
   "id": "6194fa3d",
   "metadata": {},
   "outputs": [],
   "source": []
  },
  {
   "cell_type": "code",
   "execution_count": 1,
   "id": "a8831b55-5cb9-4fc2-922b-d30c65e29937",
   "metadata": {},
   "outputs": [],
   "source": [
    "import pandas as pd\n",
    "import numpy as np\n",
    "import os\n",
    "import matplotlib.pyplot as plt\n",
    "from sklearn.model_selection import train_test_split\n",
    "from autogluon.tabular import TabularDataset, TabularPredictor\n",
    "from sklearn.metrics import mean_absolute_error, mean_squared_error"
   ]
  },
  {
   "cell_type": "code",
   "execution_count": 2,
   "id": "6ce01831",
   "metadata": {},
   "outputs": [
    {
     "name": "stdout",
     "output_type": "stream",
     "text": [
      "Data path is: /data5/zxucj/Traffic_Simulation_Work/Traffic_Simulation_Data_Generation_for_Model_Training/SUMO_Simulation/TraCI_output_adjusted.csv\n",
      "Data Shape: (39845224, 8)\n"
     ]
    }
   ],
   "source": [
    "# 1. Read Mannual Allocation Data\n",
    "\n",
    "# Define data path\n",
    "path = os.path.abspath('./../SUMO_Simulation') \n",
    "# Define data path\n",
    "data_path = os.path.join(path,'TraCI_output_adjusted.csv') # Mannual Allocation Data\n",
    "print('Data path is:', data_path) \n",
    "\n",
    "# Read csv file\n",
    "df = pd.read_csv(data_path)\n",
    "\n",
    "# Choose input features\n",
    "selected_columns = ['Lanes_Net',    # Number of lanes\n",
    "                    'Speed_Net',    # Speed limit\n",
    "                    'E_Length',     # Edge (Road) length\n",
    "                    'Driving_Num',  # Traffic flow\n",
    "                    'Travel_Time',  # Normal travel time (speed > 5 m/s)\n",
    "                    'Delay_Time',   # Wait time caused by congestion (green traffic signal)\n",
    "                    'LowSpee_Time', # Low speed travel time  (speed < 5 m/s)\n",
    "                    'Wait_Time'     # Wait time caused by waiting red light\n",
    "                   ]\n",
    "df = df[selected_columns]\n",
    "\n",
    "# Check correctness of travel time \n",
    "for col in ['Delay_Time', 'LowSpee_Time', 'Wait_Time']:\n",
    "    if (df[col] < 0).any(): print(f\"Error: {col} contains values less than 0\")       \n",
    "        \n",
    "print(\"Data Shape:\", df.shape)"
   ]
  },
  {
   "cell_type": "code",
   "execution_count": 3,
   "id": "8c597428",
   "metadata": {},
   "outputs": [
    {
     "data": {
      "text/html": [
       "<div>\n",
       "<style scoped>\n",
       "    .dataframe tbody tr th:only-of-type {\n",
       "        vertical-align: middle;\n",
       "    }\n",
       "\n",
       "    .dataframe tbody tr th {\n",
       "        vertical-align: top;\n",
       "    }\n",
       "\n",
       "    .dataframe thead th {\n",
       "        text-align: right;\n",
       "    }\n",
       "</style>\n",
       "<table border=\"1\" class=\"dataframe\">\n",
       "  <thead>\n",
       "    <tr style=\"text-align: right;\">\n",
       "      <th></th>\n",
       "      <th>Lanes_Net</th>\n",
       "      <th>Speed_Net</th>\n",
       "      <th>E_Length</th>\n",
       "      <th>Driving_Num</th>\n",
       "      <th>Travel_Time</th>\n",
       "      <th>Delay_Time</th>\n",
       "      <th>LowSpee_Time</th>\n",
       "      <th>Wait_Time</th>\n",
       "      <th>Length_Speed_Ratio</th>\n",
       "      <th>E_Length_Squared</th>\n",
       "    </tr>\n",
       "  </thead>\n",
       "  <tbody>\n",
       "    <tr>\n",
       "      <th>0</th>\n",
       "      <td>4</td>\n",
       "      <td>27.78</td>\n",
       "      <td>7.36</td>\n",
       "      <td>1</td>\n",
       "      <td>0</td>\n",
       "      <td>0</td>\n",
       "      <td>0</td>\n",
       "      <td>0</td>\n",
       "      <td>0</td>\n",
       "      <td>54</td>\n",
       "    </tr>\n",
       "    <tr>\n",
       "      <th>1</th>\n",
       "      <td>4</td>\n",
       "      <td>11.18</td>\n",
       "      <td>16.90</td>\n",
       "      <td>1</td>\n",
       "      <td>3</td>\n",
       "      <td>1</td>\n",
       "      <td>1</td>\n",
       "      <td>0</td>\n",
       "      <td>2</td>\n",
       "      <td>286</td>\n",
       "    </tr>\n",
       "    <tr>\n",
       "      <th>2</th>\n",
       "      <td>3</td>\n",
       "      <td>11.18</td>\n",
       "      <td>11.76</td>\n",
       "      <td>1</td>\n",
       "      <td>2</td>\n",
       "      <td>1</td>\n",
       "      <td>1</td>\n",
       "      <td>0</td>\n",
       "      <td>1</td>\n",
       "      <td>138</td>\n",
       "    </tr>\n",
       "    <tr>\n",
       "      <th>3</th>\n",
       "      <td>1</td>\n",
       "      <td>11.18</td>\n",
       "      <td>14.52</td>\n",
       "      <td>1</td>\n",
       "      <td>3</td>\n",
       "      <td>1</td>\n",
       "      <td>1</td>\n",
       "      <td>0</td>\n",
       "      <td>1</td>\n",
       "      <td>211</td>\n",
       "    </tr>\n",
       "    <tr>\n",
       "      <th>4</th>\n",
       "      <td>4</td>\n",
       "      <td>11.18</td>\n",
       "      <td>10.62</td>\n",
       "      <td>1</td>\n",
       "      <td>0</td>\n",
       "      <td>0</td>\n",
       "      <td>0</td>\n",
       "      <td>0</td>\n",
       "      <td>1</td>\n",
       "      <td>113</td>\n",
       "    </tr>\n",
       "  </tbody>\n",
       "</table>\n",
       "</div>"
      ],
      "text/plain": [
       "   Lanes_Net  Speed_Net  E_Length  Driving_Num  Travel_Time Delay_Time  \\\n",
       "0          4      27.78      7.36            1            0          0   \n",
       "1          4      11.18     16.90            1            3          1   \n",
       "2          3      11.18     11.76            1            2          1   \n",
       "3          1      11.18     14.52            1            3          1   \n",
       "4          4      11.18     10.62            1            0          0   \n",
       "\n",
       "  LowSpee_Time Wait_Time  Length_Speed_Ratio  E_Length_Squared  \n",
       "0            0         0                   0                54  \n",
       "1            1         0                   2               286  \n",
       "2            1         0                   1               138  \n",
       "3            1         0                   1               211  \n",
       "4            0         0                   1               113  "
      ]
     },
     "execution_count": 3,
     "metadata": {},
     "output_type": "execute_result"
    }
   ],
   "source": [
    "# 2. Feature Engineering\n",
    "\n",
    "# Redefine travel time\n",
    "df['Travel_Time'] = pd.to_numeric(df['Travel_Time'], errors='coerce') + pd.to_numeric(df['Delay_Time'], errors='coerce') + pd.to_numeric(df['LowSpee_Time'], errors='coerce')\n",
    "# To boolean\n",
    "df[['Delay_Time', 'LowSpee_Time', 'Wait_Time']] = df[['Delay_Time', 'LowSpee_Time', 'Wait_Time']].applymap(lambda x: 0 if x == 0 else 1)\n",
    "df['Delay_Time'] = df['Delay_Time'].astype('category')\n",
    "df['LowSpee_Time'] = df['LowSpee_Time'].astype('category')\n",
    "df['Wait_Time'] = df['Wait_Time'].astype('category')\n",
    "\n",
    "# Define travel time on tiny road to 0\n",
    "df.loc[df['E_Length'] / df['Speed_Net'] < 1, 'Travel_Time'] = 0\n",
    "df.loc[df['E_Length'] / df['Speed_Net'] < 1, 'Delay_Time'] = 0\n",
    "df.loc[df['E_Length'] / df['Speed_Net'] < 1, 'LowSpee_Time'] = 0\n",
    "\n",
    "# Round to two decimal places\n",
    "df['Speed_Net'] = df['Speed_Net'].round(2)\n",
    "df['E_Length'] = df['E_Length'].round(2)\n",
    "\n",
    "# Add new features to enhence importance of ratio and length\n",
    "df['Length_Speed_Ratio'] = df['E_Length'] / df['Speed_Net']\n",
    "df['E_Length_Squared'] = df['E_Length'] ** 2\n",
    "# To int.\n",
    "cols_to_convert = ['Length_Speed_Ratio', 'E_Length_Squared']\n",
    "df[cols_to_convert] = df[cols_to_convert].round().astype(int)\n",
    "\n",
    "# Remove outliers\n",
    "q_high = df['Travel_Time'].quantile(0.99)\n",
    "df = df[df['Travel_Time'] <= q_high]\n",
    "\n",
    "df.head()"
   ]
  },
  {
   "cell_type": "code",
   "execution_count": 4,
   "id": "4cbd793a",
   "metadata": {},
   "outputs": [
    {
     "name": "stdout",
     "output_type": "stream",
     "text": [
      "数据形状: (253754, 10)\n"
     ]
    }
   ],
   "source": [
    "# 3. Balance samples\n",
    "# Since the number of samples with low traffic flow exceeds those with high traffic flow, \n",
    "# this module restricts the maximum number of samples for each traffic flow category.\t\n",
    "\n",
    "# Define max threshold\n",
    "desired_samples = 20000\n",
    "\n",
    "# For each traffic flow category, retain all samples if their count is below the maximum threshold; \n",
    "# otherwise, randomly select samples up to the maximum threshold.\t\n",
    "df_filter = pd.DataFrame()\n",
    "for value in df['Driving_Num'].unique():\n",
    "    current_df = df[df['Driving_Num'] == value]\n",
    "    if current_df.shape[0] > desired_samples:\n",
    "        sampled_df = current_df.sample(n=desired_samples, random_state=42)\n",
    "    else:\n",
    "        sampled_df = current_df\n",
    "    df_filter = pd.concat([df_filter, sampled_df])\n",
    "# Reset index\n",
    "df_filter.reset_index(drop=True, inplace=True)\n",
    "\n",
    "print(\"数据形状:\", df_filter.shape)"
   ]
  },
  {
   "cell_type": "code",
   "execution_count": 5,
   "id": "b7c8a94a",
   "metadata": {},
   "outputs": [
    {
     "name": "stdout",
     "output_type": "stream",
     "text": [
      "Shape of training: (203003, 10)\n",
      "Shape of testing: (50751, 10)\n"
     ]
    }
   ],
   "source": [
    "# 4. Split data into training and testing\n",
    "\n",
    "train_data, test_data = train_test_split(df_filter, test_size=0.2, random_state=42)\n",
    "print(\"Shape of training:\", train_data.shape)\n",
    "print(\"Shape of testing:\", test_data.shape)"
   ]
  },
  {
   "cell_type": "code",
   "execution_count": 6,
   "id": "305e6db8",
   "metadata": {},
   "outputs": [
    {
     "name": "stderr",
     "output_type": "stream",
     "text": [
      "No path specified. Models will be saved in: \"AutogluonModels/ag-20241207_012554\"\n",
      "Verbosity: 2 (Standard Logging)\n",
      "=================== System Info ===================\n",
      "AutoGluon Version:  1.1.1\n",
      "Python Version:     3.8.18\n",
      "Operating System:   Linux\n",
      "Platform Machine:   x86_64\n",
      "Platform Version:   #134-Ubuntu SMP Fri Sep 27 20:20:17 UTC 2024\n",
      "CPU Count:          128\n",
      "Memory Avail:       1487.54 GB / 1511.51 GB (98.4%)\n",
      "Disk Space Avail:   12015.81 GB / 13484.30 GB (89.1%)\n",
      "===================================================\n",
      "No presets specified! To achieve strong results with AutoGluon, it is recommended to use the available presets.\n",
      "\tRecommended Presets (For more details refer to https://auto.gluon.ai/stable/tutorials/tabular/tabular-essentials.html#presets):\n",
      "\tpresets='best_quality'   : Maximize accuracy. Default time_limit=3600.\n",
      "\tpresets='high_quality'   : Strong accuracy with fast inference speed. Default time_limit=3600.\n",
      "\tpresets='good_quality'   : Good accuracy with very fast inference speed. Default time_limit=3600.\n",
      "\tpresets='medium_quality' : Fast training time, ideal for initial prototyping.\n",
      "Warning: Training may take a very long time because `time_limit` was not specified and `train_data` is large (203003 samples, 13.6 MB).\n",
      "\tConsider setting `time_limit` to ensure training finishes within an expected duration or experiment with a small portion of `train_data` to identify an ideal `presets` and `hyperparameters` configuration.\n",
      "Beginning AutoGluon training ...\n",
      "AutoGluon will save models to \"AutogluonModels/ag-20241207_012554\"\n",
      "Train Data Rows:    203003\n",
      "Train Data Columns: 9\n",
      "Label Column:       Travel_Time\n",
      "Problem Type:       regression\n",
      "Preprocessing data ...\n",
      "Using Feature Generators to preprocess the data ...\n",
      "Fitting AutoMLPipelineFeatureGenerator...\n",
      "\tAvailable Memory:                    1523250.40 MB\n",
      "\tTrain Data (Original)  Memory Usage: 9.87 MB (0.0% of available memory)\n",
      "\tInferring data type of each feature based on column values. Set feature_metadata_in to manually specify special dtypes of the features.\n",
      "\tStage 1 Generators:\n",
      "\t\tFitting AsTypeFeatureGenerator...\n",
      "\t\t\tNote: Converting 3 features to boolean dtype as they only contain 2 unique values.\n",
      "\tStage 2 Generators:\n",
      "\t\tFitting FillNaFeatureGenerator...\n",
      "\tStage 3 Generators:\n",
      "\t\tFitting IdentityFeatureGenerator...\n",
      "\tStage 4 Generators:\n",
      "\t\tFitting DropUniqueFeatureGenerator...\n",
      "\tStage 5 Generators:\n",
      "\t\tFitting DropDuplicatesFeatureGenerator...\n",
      "\tTypes of features in original data (raw dtype, special dtypes):\n",
      "\t\t('category', []) : 3 | ['Delay_Time', 'LowSpee_Time', 'Wait_Time']\n",
      "\t\t('float', [])    : 2 | ['Speed_Net', 'E_Length']\n",
      "\t\t('int', [])      : 4 | ['Lanes_Net', 'Driving_Num', 'Length_Speed_Ratio', 'E_Length_Squared']\n",
      "\tTypes of features in processed data (raw dtype, special dtypes):\n",
      "\t\t('float', [])     : 2 | ['Speed_Net', 'E_Length']\n",
      "\t\t('int', [])       : 4 | ['Lanes_Net', 'Driving_Num', 'Length_Speed_Ratio', 'E_Length_Squared']\n",
      "\t\t('int', ['bool']) : 3 | ['Delay_Time', 'LowSpee_Time', 'Wait_Time']\n",
      "\t0.2s = Fit runtime\n",
      "\t9 features in original data used to generate 9 features in processed data.\n",
      "\tTrain Data (Processed) Memory Usage: 9.87 MB (0.0% of available memory)\n",
      "Data preprocessing and feature engineering runtime = 0.28s ...\n",
      "AutoGluon will gauge predictive performance using evaluation metric: 'mean_absolute_error'\n",
      "\tThis metric's sign has been flipped to adhere to being higher_is_better. The metric score can be multiplied by -1 to get the metric value.\n",
      "\tTo change this, specify the eval_metric parameter of Predictor()\n",
      "Automatically generating train/validation split with holdout_frac=0.012315088939572321, Train Rows: 200503, Val Rows: 2500\n",
      "User-specified model hyperparameters to be fit:\n",
      "{\n",
      "\t'NN_TORCH': {},\n",
      "\t'GBM': [{'extra_trees': True, 'ag_args': {'name_suffix': 'XT'}}, {}, 'GBMLarge'],\n",
      "\t'CAT': {},\n",
      "\t'XGB': {},\n",
      "\t'FASTAI': {},\n",
      "\t'RF': [{'criterion': 'gini', 'ag_args': {'name_suffix': 'Gini', 'problem_types': ['binary', 'multiclass']}}, {'criterion': 'entropy', 'ag_args': {'name_suffix': 'Entr', 'problem_types': ['binary', 'multiclass']}}, {'criterion': 'squared_error', 'ag_args': {'name_suffix': 'MSE', 'problem_types': ['regression', 'quantile']}}],\n",
      "\t'XT': [{'criterion': 'gini', 'ag_args': {'name_suffix': 'Gini', 'problem_types': ['binary', 'multiclass']}}, {'criterion': 'entropy', 'ag_args': {'name_suffix': 'Entr', 'problem_types': ['binary', 'multiclass']}}, {'criterion': 'squared_error', 'ag_args': {'name_suffix': 'MSE', 'problem_types': ['regression', 'quantile']}}],\n",
      "\t'KNN': [{'weights': 'uniform', 'ag_args': {'name_suffix': 'Unif'}}, {'weights': 'distance', 'ag_args': {'name_suffix': 'Dist'}}],\n",
      "}\n",
      "Fitting 11 L1 models ...\n",
      "Fitting model: KNeighborsUnif ...\n",
      "\t-2.2246\t = Validation score   (-mean_absolute_error)\n",
      "\t0.28s\t = Training   runtime\n",
      "\t0.13s\t = Validation runtime\n",
      "Fitting model: KNeighborsDist ...\n",
      "\t-2.2141\t = Validation score   (-mean_absolute_error)\n",
      "\t0.31s\t = Training   runtime\n",
      "\t0.12s\t = Validation runtime\n",
      "Fitting model: LightGBMXT ...\n"
     ]
    },
    {
     "name": "stdout",
     "output_type": "stream",
     "text": [
      "[1000]\tvalid_set's l1: 2.4064\n",
      "[2000]\tvalid_set's l1: 2.10853\n",
      "[3000]\tvalid_set's l1: 1.92785\n",
      "[4000]\tvalid_set's l1: 1.81294\n",
      "[5000]\tvalid_set's l1: 1.73316\n",
      "[6000]\tvalid_set's l1: 1.66123\n",
      "[7000]\tvalid_set's l1: 1.61056\n",
      "[8000]\tvalid_set's l1: 1.56515\n",
      "[9000]\tvalid_set's l1: 1.5266\n",
      "[10000]\tvalid_set's l1: 1.49196\n"
     ]
    },
    {
     "name": "stderr",
     "output_type": "stream",
     "text": [
      "\t-1.492\t = Validation score   (-mean_absolute_error)\n",
      "\t41.91s\t = Training   runtime\n",
      "\t0.05s\t = Validation runtime\n",
      "Fitting model: LightGBM ...\n"
     ]
    },
    {
     "name": "stdout",
     "output_type": "stream",
     "text": [
      "[1000]\tvalid_set's l1: 1.24934\n",
      "[2000]\tvalid_set's l1: 1.16049\n",
      "[3000]\tvalid_set's l1: 1.13693\n",
      "[4000]\tvalid_set's l1: 1.1239\n",
      "[5000]\tvalid_set's l1: 1.11194\n",
      "[6000]\tvalid_set's l1: 1.10411\n",
      "[7000]\tvalid_set's l1: 1.09938\n",
      "[8000]\tvalid_set's l1: 1.09467\n",
      "[9000]\tvalid_set's l1: 1.09193\n",
      "[10000]\tvalid_set's l1: 1.09004\n"
     ]
    },
    {
     "name": "stderr",
     "output_type": "stream",
     "text": [
      "\t-1.09\t = Validation score   (-mean_absolute_error)\n",
      "\t32.53s\t = Training   runtime\n",
      "\t0.04s\t = Validation runtime\n",
      "Fitting model: RandomForestMSE ...\n",
      "\t-0.9318\t = Validation score   (-mean_absolute_error)\n",
      "\t2.18s\t = Training   runtime\n",
      "\t0.07s\t = Validation runtime\n",
      "Fitting model: CatBoost ...\n",
      "\t-1.1601\t = Validation score   (-mean_absolute_error)\n",
      "\t168.94s\t = Training   runtime\n",
      "\t0.02s\t = Validation runtime\n",
      "Fitting model: ExtraTreesMSE ...\n",
      "\t-0.9469\t = Validation score   (-mean_absolute_error)\n",
      "\t2.45s\t = Training   runtime\n",
      "\t0.25s\t = Validation runtime\n",
      "Fitting model: NeuralNetFastAI ...\n",
      "\t-3.0394\t = Validation score   (-mean_absolute_error)\n",
      "\t180.67s\t = Training   runtime\n",
      "\t0.02s\t = Validation runtime\n",
      "Fitting model: XGBoost ...\n",
      "\t-1.143\t = Validation score   (-mean_absolute_error)\n",
      "\t22.32s\t = Training   runtime\n",
      "\t0.04s\t = Validation runtime\n",
      "Fitting model: NeuralNetTorch ...\n",
      "\t-1.4115\t = Validation score   (-mean_absolute_error)\n",
      "\t928.88s\t = Training   runtime\n",
      "\t0.01s\t = Validation runtime\n",
      "Fitting model: LightGBMLarge ...\n"
     ]
    },
    {
     "name": "stdout",
     "output_type": "stream",
     "text": [
      "[1000]\tvalid_set's l1: 1.11791\n",
      "[2000]\tvalid_set's l1: 1.08005\n",
      "[3000]\tvalid_set's l1: 1.07079\n",
      "[4000]\tvalid_set's l1: 1.06858\n",
      "[5000]\tvalid_set's l1: 1.06716\n",
      "[6000]\tvalid_set's l1: 1.06674\n",
      "[7000]\tvalid_set's l1: 1.06664\n",
      "[8000]\tvalid_set's l1: 1.06654\n"
     ]
    },
    {
     "name": "stderr",
     "output_type": "stream",
     "text": [
      "\t-1.066\t = Validation score   (-mean_absolute_error)\n",
      "\t89.13s\t = Training   runtime\n",
      "\t0.05s\t = Validation runtime\n",
      "Fitting model: WeightedEnsemble_L2 ...\n",
      "\tEnsemble Weights: {'RandomForestMSE': 0.96, 'ExtraTreesMSE': 0.04}\n",
      "\t-0.9316\t = Validation score   (-mean_absolute_error)\n",
      "\t0.06s\t = Training   runtime\n",
      "\t0.0s\t = Validation runtime\n",
      "AutoGluon training complete, total runtime = 1473.15s ... Best model: WeightedEnsemble_L2 | Estimated inference throughput: 7773.4 rows/s (2500 batch size)\n",
      "TabularPredictor saved. To load, use: predictor = TabularPredictor.load(\"AutogluonModels/ag-20241207_012554\")\n"
     ]
    },
    {
     "name": "stdout",
     "output_type": "stream",
     "text": [
      "AutoGluon infers problem type is:  regression\n",
      "AutoGluon identified the following types of features:\n",
      "('float', [])     : 2 | ['Speed_Net', 'E_Length']\n",
      "('int', [])       : 4 | ['Lanes_Net', 'Driving_Num', 'Length_Speed_Ratio', 'E_Length_Squared']\n",
      "('int', ['bool']) : 3 | ['Delay_Time', 'LowSpee_Time', 'Wait_Time']\n"
     ]
    }
   ],
   "source": [
    "# 5. Model training\n",
    "\n",
    "predictor = TabularPredictor(label='Travel_Time', problem_type='regression', eval_metric='mean_absolute_error').fit(train_data)\n",
    "\n",
    "print(\"AutoGluon infers problem type is: \", predictor.problem_type)\n",
    "print(\"AutoGluon identified the following types of features:\")\n",
    "print(predictor.feature_metadata)"
   ]
  },
  {
   "cell_type": "code",
   "execution_count": 9,
   "id": "a9dba78a",
   "metadata": {},
   "outputs": [
    {
     "data": {
      "text/plain": [
       "{'mean_absolute_error': -0.9955793761091155,\n",
       " 'root_mean_squared_error': -2.0892561740404547,\n",
       " 'mean_squared_error': -4.364991360766159,\n",
       " 'r2': 0.9748989075984149,\n",
       " 'pearsonr': 0.9873757619613595,\n",
       " 'median_absolute_error': -0.49695301055908203}"
      ]
     },
     "execution_count": 9,
     "metadata": {},
     "output_type": "execute_result"
    }
   ],
   "source": [
    "# 6. Prediction results on testing data\n",
    "\n",
    "predictor.evaluate(test_data)"
   ]
  },
  {
   "cell_type": "code",
   "execution_count": 10,
   "id": "295a9b1c-536d-4642-9a06-a01f9d07f905",
   "metadata": {},
   "outputs": [
    {
     "name": "stdout",
     "output_type": "stream",
     "text": [
      "Training MAE: 0.8515853539943992, Test MAE: 0.9955793761091155\n",
      "Training MSE: 3.105289659827365, Test MSE: 4.364991360766159\n"
     ]
    }
   ],
   "source": [
    "# 7. Check overfitting\n",
    "\n",
    "# Preidcted results on training data\n",
    "train_predictions = predictor.predict(train_data)\n",
    "train_mae = mean_absolute_error(train_data['Travel_Time'], train_predictions)\n",
    "train_mse = mean_squared_error(train_data['Travel_Time'], train_predictions)\n",
    "\n",
    "# Preidcted results on testing data\n",
    "test_predictions = predictor.predict(test_data)\n",
    "test_mae = mean_absolute_error(test_data['Travel_Time'], test_predictions)\n",
    "test_mse = mean_squared_error(test_data['Travel_Time'], test_predictions)\n",
    "\n",
    "print(f'Training MAE: {train_mae}, Test MAE: {test_mae}')\n",
    "print(f'Training MSE: {train_mse}, Test MSE: {test_mse}')"
   ]
  },
  {
   "cell_type": "code",
   "execution_count": null,
   "id": "423f6c6f-1967-4f2f-9c86-0b9b85b648cb",
   "metadata": {},
   "outputs": [],
   "source": []
  },
  {
   "cell_type": "code",
   "execution_count": null,
   "id": "50593e79-7ee3-4fb6-ad6f-a47e787ed832",
   "metadata": {},
   "outputs": [],
   "source": []
  }
 ],
 "metadata": {
  "kernelspec": {
   "display_name": "Python 3 (ipykernel)",
   "language": "python",
   "name": "python3"
  },
  "language_info": {
   "codemirror_mode": {
    "name": "ipython",
    "version": 3
   },
   "file_extension": ".py",
   "mimetype": "text/x-python",
   "name": "python",
   "nbconvert_exporter": "python",
   "pygments_lexer": "ipython3",
   "version": "3.8.18"
  }
 },
 "nbformat": 4,
 "nbformat_minor": 5
}
